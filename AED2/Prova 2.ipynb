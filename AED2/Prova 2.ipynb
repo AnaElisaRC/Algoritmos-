{
 "cells": [
  {
   "cell_type": "code",
   "execution_count": 11,
   "id": "bbeebd84-defe-4874-a743-1ffdd274b398",
   "metadata": {},
   "outputs": [],
   "source": [
    "def selection_sort(arr):\n",
    "    for i in range(len(arr)):\n",
    "        min_idx = i\n",
    "        for j in range (i+ 1, len (arr)):\n",
    "            if arr [j] < arr [min_idx]:\n",
    "                min_idx = j\n",
    "        arr [i], arr[min_idx]= arr [min_idx], arr[i]\n",
    "    return arr"
   ]
  },
  {
   "cell_type": "code",
   "execution_count": 18,
   "id": "f979b701-0666-452d-893a-1f308d749053",
   "metadata": {},
   "outputs": [
    {
     "name": "stdout",
     "output_type": "stream",
     "text": [
      "Lista original: [10, 13, 14, 29, 37]\n"
     ]
    }
   ],
   "source": [
    "lista = [29,10,14,37,13]\n",
    "sorted_list = selection_sort(lista)\n",
    "print(\"Lista original:\", lista)"
   ]
  },
  {
   "cell_type": "code",
   "execution_count": 19,
   "id": "e981b8c5-0180-4485-a72e-d1a91128af60",
   "metadata": {},
   "outputs": [
    {
     "name": "stdout",
     "output_type": "stream",
     "text": [
      "Lista ordenada: [10, 13, 14, 29, 37]\n"
     ]
    }
   ],
   "source": [
    "print(\"Lista ordenada:\", selection_sort(lista))"
   ]
  },
  {
   "cell_type": "code",
   "execution_count": 20,
   "id": "c326a328-fb09-42a2-86d9-82f4c703c1fb",
   "metadata": {},
   "outputs": [],
   "source": [
    "def find_max(sorted_list):\n",
    "    print(\"Maior elemento:\", sorted_list[-1])\n"
   ]
  },
  {
   "cell_type": "code",
   "execution_count": 21,
   "id": "dd8a3159-5310-4945-9ae6-5dce540064a1",
   "metadata": {},
   "outputs": [
    {
     "name": "stdout",
     "output_type": "stream",
     "text": [
      "Maior elemento: 37\n"
     ]
    }
   ],
   "source": [
    "find_max(sorted_list)"
   ]
  },
  {
   "cell_type": "code",
   "execution_count": null,
   "id": "54cdd169-1f0f-4b99-8d90-f1110c89bf9d",
   "metadata": {},
   "outputs": [],
   "source": []
  }
 ],
 "metadata": {
  "kernelspec": {
   "display_name": "Python 3 (ipykernel)",
   "language": "python",
   "name": "python3"
  },
  "language_info": {
   "codemirror_mode": {
    "name": "ipython",
    "version": 3
   },
   "file_extension": ".py",
   "mimetype": "text/x-python",
   "name": "python",
   "nbconvert_exporter": "python",
   "pygments_lexer": "ipython3",
   "version": "3.12.4"
  }
 },
 "nbformat": 4,
 "nbformat_minor": 5
}
