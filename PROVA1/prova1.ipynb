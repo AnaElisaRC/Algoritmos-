{
 "cells": [
  {
   "cell_type": "code",
   "execution_count": 7,
   "id": "88954086-3bcc-4368-abd5-9664942f1feb",
   "metadata": {},
   "outputs": [
    {
     "name": "stdin",
     "output_type": "stream",
     "text": [
      "Digite uma frase: gustavo é meu amor\n"
     ]
    },
    {
     "name": "stdout",
     "output_type": "stream",
     "text": [
      "numero de palavras 4\n",
      "numero de vogais 7\n",
      "numero de espaco 3\n",
      "numero de consoante 8\n"
     ]
    }
   ],
   "source": [
    "frase=(input('Digite uma frase:'))\n",
    "nespaco= 0\n",
    "nvogais = 0\n",
    "nconsoante = 0 \n",
    "npalavras = 0\n",
    "\n",
    "vogais='aeiou'\n",
    "\n",
    "for caracteres in frase:\n",
    "    if caracteres in vogais:\n",
    "        nvogais+=1\n",
    "    elif caracteres == \" \":\n",
    "        nespaco+=1\n",
    "    else:\n",
    "        nconsoante+=1\n",
    "        \n",
    "palavras = frase.split()\n",
    "npalavras = len(palavras)\n",
    "\n",
    "print(\"numero de palavras\", npalavras)\n",
    "print(\"numero de vogais\", nvogais)\n",
    "print(\"numero de espaco\", nespaco)\n",
    "print(\"numero de consoante\", nconsoante)"
   ]
  },
  {
   "cell_type": "code",
   "execution_count": null,
   "id": "24a165c3-c491-409c-804f-2e8f28ec7eaa",
   "metadata": {},
   "outputs": [],
   "source": []
  }
 ],
 "metadata": {
  "kernelspec": {
   "display_name": "Python 3 (ipykernel)",
   "language": "python",
   "name": "python3"
  },
  "language_info": {
   "codemirror_mode": {
    "name": "ipython",
    "version": 3
   },
   "file_extension": ".py",
   "mimetype": "text/x-python",
   "name": "python",
   "nbconvert_exporter": "python",
   "pygments_lexer": "ipython3",
   "version": "3.11.7"
  }
 },
 "nbformat": 4,
 "nbformat_minor": 5
}
