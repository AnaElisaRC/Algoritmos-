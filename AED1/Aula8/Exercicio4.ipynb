{
 "cells": [
  {
   "cell_type": "code",
   "execution_count": 8,
   "metadata": {},
   "outputs": [
    {
     "name": "stdout",
     "output_type": "stream",
     "text": [
      "Procedêcia Norte Preço final: 2.26\n"
     ]
    }
   ],
   "source": [
    "preçoLiquido = float(input(\"Digite o preço do produto \"))\n",
    "codigoOrigem = float(input(\"Digite o código do produto: \"))\n",
    "\n",
    "\n",
    "if codigoOrigem == 1:\n",
    "    imposto = preçoLiquido*(11/100)\n",
    "    print (\"Procedêcia Sul Preço final:\" , preçoLiquido+imposto)\n",
    "elif codigoOrigem == 2:\n",
    "    imposto = preçoLiquido* (13/100)\n",
    "    print (\"Procedêcia Norte Preço final:\" , preçoLiquido+imposto)\n",
    "elif codigoOrigem == 3:\n",
    "    imposto = preçoLiquido* (9/100)\n",
    "    print (\"Procedêcia Nordeste Preço final:\" , preçoLiquido+imposto)\n",
    "elif codigoOrigem == 4:\n",
    "    imposto = preçoLiquido* (12/100)\n",
    "    print (\"Procedêcia Centro Oeste Preço final:\" , preçoLiquido+imposto)\n",
    "elif codigoOrigem == 5:\n",
    "    imposto = preçoLiquido* (18/100)\n",
    "    print (\"Procedêcia Sudente Preço final:\" , preçoLiquido+imposto)\n",
    "else:\n",
    "    print(\"Não tem este código\")\n"
   ]
  }
 ],
 "metadata": {
  "kernelspec": {
   "display_name": "base",
   "language": "python",
   "name": "python3"
  },
  "language_info": {
   "codemirror_mode": {
    "name": "ipython",
    "version": 3
   },
   "file_extension": ".py",
   "mimetype": "text/x-python",
   "name": "python",
   "nbconvert_exporter": "python",
   "pygments_lexer": "ipython3",
   "version": "3.11.7"
  }
 },
 "nbformat": 4,
 "nbformat_minor": 2
}
