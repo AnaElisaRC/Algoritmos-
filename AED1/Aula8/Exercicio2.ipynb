{
 "cells": [
  {
   "cell_type": "code",
   "execution_count": 6,
   "metadata": {},
   "outputs": [
    {
     "name": "stdout",
     "output_type": "stream",
     "text": [
      "Sênior\n"
     ]
    }
   ],
   "source": [
    "idade = float(input(\"Digite a idade:\"))\n",
    "\n",
    "if idade >= 5 and idade <= 7:\n",
    "    print(\"Infantil\")\n",
    "elif idade >= 8 and idade <=10:\n",
    "    print(\"Juvenil\")\n",
    "elif idade >= 11 and idade <=15:\n",
    "    print(\"Adolescente\")\n",
    "elif idade >=16 and idade <=30:\n",
    "    print (\"Adulto\")\n",
    "elif idade <5:\n",
    "    print(\"sem categoria\")\n",
    "else:\n",
    "    print(\"Sênior\")"
   ]
  }
 ],
 "metadata": {
  "kernelspec": {
   "display_name": "base",
   "language": "python",
   "name": "python3"
  },
  "language_info": {
   "codemirror_mode": {
    "name": "ipython",
    "version": 3
   },
   "file_extension": ".py",
   "mimetype": "text/x-python",
   "name": "python",
   "nbconvert_exporter": "python",
   "pygments_lexer": "ipython3",
   "version": "3.11.7"
  }
 },
 "nbformat": 4,
 "nbformat_minor": 2
}
