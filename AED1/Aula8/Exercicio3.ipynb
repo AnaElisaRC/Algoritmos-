{
 "cells": [
  {
   "cell_type": "code",
   "execution_count": 6,
   "metadata": {},
   "outputs": [
    {
     "name": "stdout",
     "output_type": "stream",
     "text": [
      "Triângulo Escaleno\n"
     ]
    }
   ],
   "source": [
    "lado1 = float(input(\"Digite o comprimento do primeiro lado do triângulo: \"))\n",
    "lado2 = float(input(\"Digite o comprimento do segundo lado do triângulo: \"))\n",
    "lado3 = float(input(\"Digite o comprimento do terceiro lado do triângulo:\"))\n",
    "\n",
    "if lado1+lado2>lado3 and lado1+lado3>lado2 and lado2+lado3>lado1:\n",
    "    if lado1 == lado2 == lado3:\n",
    "        print(\"Triângulo Equilátero\")\n",
    "    elif lado1 == lado2 or lado1 == lado3 or lado2 ==lado3:\n",
    "        print(\"Triângulo Isósceles\")\n",
    "    else:\n",
    "        print(\"Triângulo Escaleno\")\n",
    "else:\n",
    "    print (\"Não é um triãngulo\")"
   ]
  }
 ],
 "metadata": {
  "kernelspec": {
   "display_name": "base",
   "language": "python",
   "name": "python3"
  },
  "language_info": {
   "codemirror_mode": {
    "name": "ipython",
    "version": 3
   },
   "file_extension": ".py",
   "mimetype": "text/x-python",
   "name": "python",
   "nbconvert_exporter": "python",
   "pygments_lexer": "ipython3",
   "version": "3.11.7"
  }
 },
 "nbformat": 4,
 "nbformat_minor": 2
}
