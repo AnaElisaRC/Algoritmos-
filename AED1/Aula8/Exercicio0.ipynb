{
 "cells": [
  {
   "cell_type": "code",
   "execution_count": 4,
   "metadata": {},
   "outputs": [
    {
     "name": "stdout",
     "output_type": "stream",
     "text": [
      "segundo numero  10 é maior que o primeiro numero 1\n"
     ]
    }
   ],
   "source": [
    "primeiroNumero=int(input(\"digite um valor para primeiro numero:\"))\n",
    "segundoNumero=int(input(\"digite um valor para segundo numero:\"))\n",
    "\n",
    "if (primeiroNumero>segundoNumero):\n",
    "    print(\"O primeiro numero \" ,primeiroNumero,\" é maior que o segundo numero \", segundoNumero)\n",
    "else:\n",
    "    print(\"segundo numero \", segundoNumero, \"é maior que o primeiro numero\", primeiroNumero)"
   ]
  }
 ],
 "metadata": {
  "kernelspec": {
   "display_name": "base",
   "language": "python",
   "name": "python3"
  },
  "language_info": {
   "codemirror_mode": {
    "name": "ipython",
    "version": 3
   },
   "file_extension": ".py",
   "mimetype": "text/x-python",
   "name": "python",
   "nbconvert_exporter": "python",
   "pygments_lexer": "ipython3",
   "version": "3.11.7"
  }
 },
 "nbformat": 4,
 "nbformat_minor": 2
}
