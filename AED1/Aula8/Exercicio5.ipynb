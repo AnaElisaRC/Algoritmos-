{
 "cells": [
  {
   "cell_type": "code",
   "execution_count": 2,
   "metadata": {},
   "outputs": [
    {
     "name": "stdout",
     "output_type": "stream",
     "text": [
      "Equação não é do segundo grau\n"
     ]
    }
   ],
   "source": [
    "import math\n",
    "\n",
    "a = float(input(\"Digite um valor para A: \"))\n",
    "\n",
    "if a == 0:\n",
    "    print(\"Equação não é do segundo grau\")\n",
    "else:\n",
    "    b = float(input(\"Digite um valor para B: \"))\n",
    "    c = float(input(\"Digite um valor para C: \"))\n",
    "\n",
    "    delta = b**2-4*a*c\n",
    "\n",
    "    if delta < 0:\n",
    "        print(\"A equação não possui raízes reais\")\n",
    "    elif delta == 0:\n",
    "        raiz = -b/(2*a)\n",
    "        print(\"A equação possui apenas uma raiz\" ,raiz)\n",
    "    else:\n",
    "       raiz1 = (-b + math.sqrt(delta)) / (2*a)\n",
    "       raiz2 = (-b - math.sqrt(delta)) / (2*a)\n",
    "       print(\"A equação possui duas raízes reais:\")\n",
    "       print(\"x1 =\", raiz1)\n",
    "       print(\"x2 =\" , raiz2)\n"
   ]
  }
 ],
 "metadata": {
  "kernelspec": {
   "display_name": "base",
   "language": "python",
   "name": "python3"
  },
  "language_info": {
   "codemirror_mode": {
    "name": "ipython",
    "version": 3
   },
   "file_extension": ".py",
   "mimetype": "text/x-python",
   "name": "python",
   "nbconvert_exporter": "python",
   "pygments_lexer": "ipython3",
   "version": "3.11.7"
  }
 },
 "nbformat": 4,
 "nbformat_minor": 2
}
