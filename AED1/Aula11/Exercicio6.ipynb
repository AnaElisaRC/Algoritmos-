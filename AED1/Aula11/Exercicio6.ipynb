{
 "cells": [
  {
   "cell_type": "code",
   "execution_count": 5,
   "metadata": {},
   "outputs": [
    {
     "name": "stdout",
     "output_type": "stream",
     "text": [
      "numero 9.876.543,21 \n"
     ]
    }
   ],
   "source": [
    "numero = input( \"Digite um conjunto de número\")\n",
    "\n",
    "if len(numero) <= 9:\n",
    "    print(f\"numero { numero[0]}.{numero [1]}{numero[2]}{numero[3]}.{numero[4]}{numero[5]}{numero[6]},{numero[7]}{numero[8]} \" )"
   ]
  }
 ],
 "metadata": {
  "kernelspec": {
   "display_name": "base",
   "language": "python",
   "name": "python3"
  },
  "language_info": {
   "codemirror_mode": {
    "name": "ipython",
    "version": 3
   },
   "file_extension": ".py",
   "mimetype": "text/x-python",
   "name": "python",
   "nbconvert_exporter": "python",
   "pygments_lexer": "ipython3",
   "version": "3.11.7"
  }
 },
 "nbformat": 4,
 "nbformat_minor": 2
}
