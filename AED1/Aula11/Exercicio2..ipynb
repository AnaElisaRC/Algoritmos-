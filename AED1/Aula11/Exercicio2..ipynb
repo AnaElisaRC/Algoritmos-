{
 "cells": [
  {
   "cell_type": "code",
   "execution_count": 9,
   "metadata": {},
   "outputs": [
    {
     "name": "stdout",
     "output_type": "stream",
     "text": [
      "19941128\n"
     ]
    }
   ],
   "source": [
    "data =  input(\"Digite sua data de nascimento\")\n",
    "\n",
    "dia,mes,ano = data.split('/')\n",
    "\n",
    "dataformatada = f\"{ano}{mes}{dia}\"\n",
    "\n",
    "print(dataformatada)"
   ]
  }
 ],
 "metadata": {
  "kernelspec": {
   "display_name": "base",
   "language": "python",
   "name": "python3"
  },
  "language_info": {
   "codemirror_mode": {
    "name": "ipython",
    "version": 3
   },
   "file_extension": ".py",
   "mimetype": "text/x-python",
   "name": "python",
   "nbconvert_exporter": "python",
   "pygments_lexer": "ipython3",
   "version": "3.11.7"
  }
 },
 "nbformat": 4,
 "nbformat_minor": 2
}
