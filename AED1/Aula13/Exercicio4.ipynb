{
 "cells": [
  {
   "cell_type": "code",
   "execution_count": null,
   "metadata": {},
   "outputs": [],
   "source": [
    "# Carregando duas listas de cinco elementos inteiros cada\n",
    "lista1 = [int(input(f\"Digite o {i+1}º número da primeira lista: \")) for i in range(5)]\n",
    "lista2 = [int(input(f\"Digite o {i+1}º número da segunda lista: \")) for i in range(5)]\n",
    "\n",
    "# Criando um conjunto da união entre as duas listas\n",
    "conjunto_uniao = set(lista1 + lista2)\n",
    "\n",
    "# Mostrando o conjunto resultante\n",
    "print(\"Conjunto da união entre as duas listas:\")\n",
    "print(conjunto_uniao)\n"
   ]
  },
  {
   "cell_type": "code",
   "execution_count": null,
   "metadata": {},
   "outputs": [],
   "source": []
  }
 ],
 "metadata": {
  "language_info": {
   "name": "python"
  }
 },
 "nbformat": 4,
 "nbformat_minor": 2
}
