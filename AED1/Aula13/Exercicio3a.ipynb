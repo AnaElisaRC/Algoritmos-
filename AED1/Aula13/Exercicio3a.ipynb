{
 "cells": [
  {
   "cell_type": "code",
   "execution_count": null,
   "metadata": {},
   "outputs": [],
   "source": [
    "# Criando um dicionário para armazenar os dados de nome e idade\n",
    "dados = {}\n",
    "\n",
    "# Preenchendo o dicionário com pelo menos 5 pares de nome e idade\n",
    "for _ in range(5):\n",
    "    nome = input(\"Digite o nome da pessoa: \")\n",
    "    idade = int(input(\"Digite a idade da pessoa: \"))\n",
    "    dados[nome] = idade\n",
    "\n",
    "# Calculando a média das idades\n",
    "media_idades = sum(dados.values()) / len(dados)\n",
    "\n",
    "# Mostrando os nomes das pessoas com idade maior que a média\n",
    "print(\"Nomes das pessoas com idade maior que a média:\")\n",
    "for nome, idade in dados.items():\n",
    "    if idade > media_idades:\n",
    "        print(nome)\n"
   ]
  }
 ],
 "metadata": {
  "language_info": {
   "name": "python"
  }
 },
 "nbformat": 4,
 "nbformat_minor": 2
}
