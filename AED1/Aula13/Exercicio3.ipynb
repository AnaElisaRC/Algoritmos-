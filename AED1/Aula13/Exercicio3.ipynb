{
 "cells": [
  {
   "cell_type": "code",
   "execution_count": 1,
   "metadata": {},
   "outputs": [
    {
     "name": "stdout",
     "output_type": "stream",
     "text": [
      "O sobrenome da pessoa com maior idade é: edvgewfewrf\n"
     ]
    }
   ],
   "source": [
    "# Criando um dicionário vazio para armazenar os dados\n",
    "pessoas = {}\n",
    "\n",
    "# Preenchendo o dicionário com 10 elementos (sobrenome: idade)\n",
    "for _ in range(10):\n",
    "    sobrenome = input(\"Digite o sobrenome da pessoa: \")\n",
    "    idade = int(input(\"Digite a idade da pessoa: \"))\n",
    "    pessoas[sobrenome] = idade\n",
    "\n",
    "# Encontrando o sobrenome da pessoa com maior idade\n",
    "maior_idade = max(pessoas.values())\n",
    "sobrenome_maior_idade = [sobrenome for sobrenome, idade in pessoas.items() if idade == maior_idade][0]\n",
    "\n",
    "# Escrevendo o sobrenome da pessoa com maior idade\n",
    "print(f\"O sobrenome da pessoa com maior idade é: {sobrenome_maior_idade}\")\n"
   ]
  }
 ],
 "metadata": {
  "kernelspec": {
   "display_name": "Python 3",
   "language": "python",
   "name": "python3"
  },
  "language_info": {
   "codemirror_mode": {
    "name": "ipython",
    "version": 3
   },
   "file_extension": ".py",
   "mimetype": "text/x-python",
   "name": "python",
   "nbconvert_exporter": "python",
   "pygments_lexer": "ipython3",
   "version": "3.12.0"
  }
 },
 "nbformat": 4,
 "nbformat_minor": 2
}
