{
 "cells": [
  {
   "cell_type": "code",
   "execution_count": 1,
   "metadata": {},
   "outputs": [
    {
     "name": "stdout",
     "output_type": "stream",
     "text": [
      "O ano 2018 não é bissexto.\n"
     ]
    }
   ],
   "source": [
    "def verificar_bissexto(ano):\n",
    "    if ano % 4 == 0:  # Verifica se o ano é divisível por 4\n",
    "        if ano % 100 == 0:  # Verifica se o ano é divisível por 100\n",
    "            if ano % 400 == 0:  # Verifica se o ano é divisível por 400\n",
    "                return 1  # Se divisível por 400, é bissexto\n",
    "            else:\n",
    "                return 0  # Se não for divisível por 400, não é bissexto\n",
    "        else:\n",
    "            return 1  # Se divisível por 4 mas não por 100, é bissexto\n",
    "    else:\n",
    "        return 0  # Se não for divisível por 4, não é bissexto\n",
    "\n",
    "# Solicita o usuário a inserir um ano\n",
    "ano = int(input(\"Digite um ano (no formato AAAA): \"))\n",
    "\n",
    "# Chama a função para verificar se o ano é bissexto e imprime o resultado\n",
    "resultado = verificar_bissexto(ano)\n",
    "if resultado:\n",
    "    print(f'O ano {ano} é bissexto.')\n",
    "else:\n",
    "    print(f'O ano {ano} não é bissexto.')\n"
   ]
  }
 ],
 "metadata": {
  "kernelspec": {
   "display_name": "Python 3",
   "language": "python",
   "name": "python3"
  },
  "language_info": {
   "codemirror_mode": {
    "name": "ipython",
    "version": 3
   },
   "file_extension": ".py",
   "mimetype": "text/x-python",
   "name": "python",
   "nbconvert_exporter": "python",
   "pygments_lexer": "ipython3",
   "version": "3.12.0"
  }
 },
 "nbformat": 4,
 "nbformat_minor": 2
}
