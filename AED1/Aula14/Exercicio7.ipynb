{
 "cells": [
  {
   "cell_type": "code",
   "execution_count": 1,
   "metadata": {},
   "outputs": [
    {
     "name": "stdout",
     "output_type": "stream",
     "text": [
      "A quantidade de números primos entre 1 e 20 é: 8\n"
     ]
    }
   ],
   "source": [
    "def contar_primos_ate_n(n):\n",
    "    count = 0\n",
    "    for num in range(2, n + 1):\n",
    "        if eh_primo(num):\n",
    "            count += 1\n",
    "    return count\n",
    "\n",
    "def eh_primo(num):\n",
    "    if num <= 1:\n",
    "        return False\n",
    "    for i in range(2, int(num**0.5) + 1):\n",
    "        if num % i == 0:\n",
    "            return False\n",
    "    return True\n",
    "\n",
    "# Solicita o usuário a inserir um número inteiro positivo\n",
    "num = int(input(\"Digite um número inteiro positivo: \"))\n",
    "\n",
    "# Chama a função para contar números primos e imprime o resultado\n",
    "quantidade_primos = contar_primos_ate_n(num)\n",
    "print(f'A quantidade de números primos entre 1 e {num} é: {quantidade_primos}')\n"
   ]
  }
 ],
 "metadata": {
  "kernelspec": {
   "display_name": "Python 3",
   "language": "python",
   "name": "python3"
  },
  "language_info": {
   "codemirror_mode": {
    "name": "ipython",
    "version": 3
   },
   "file_extension": ".py",
   "mimetype": "text/x-python",
   "name": "python",
   "nbconvert_exporter": "python",
   "pygments_lexer": "ipython3",
   "version": "3.12.0"
  }
 },
 "nbformat": 4,
 "nbformat_minor": 2
}
