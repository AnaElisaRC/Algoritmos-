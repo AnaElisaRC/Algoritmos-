{
 "cells": [
  {
   "cell_type": "code",
   "execution_count": 1,
   "metadata": {},
   "outputs": [
    {
     "name": "stdout",
     "output_type": "stream",
     "text": [
      "O número 50 é par? V\n"
     ]
    }
   ],
   "source": [
    "def verificar_paridade(numero):\n",
    "    if numero % 2 == 0:\n",
    "        return 'V'  # Verdadeiro se o número for par\n",
    "    else:\n",
    "        return 'F'  # Falso se o número não for par\n",
    "\n",
    "# Solicita o usuário a inserir um número inteiro\n",
    "num = int(input(\"Digite um número inteiro: \"))\n",
    "\n",
    "# Chama a função para verificar a paridade e imprime o resultado\n",
    "resultado = verificar_paridade(num)\n",
    "print(f'O número {num} é par? {resultado}')\n"
   ]
  }
 ],
 "metadata": {
  "kernelspec": {
   "display_name": "Python 3",
   "language": "python",
   "name": "python3"
  },
  "language_info": {
   "codemirror_mode": {
    "name": "ipython",
    "version": 3
   },
   "file_extension": ".py",
   "mimetype": "text/x-python",
   "name": "python",
   "nbconvert_exporter": "python",
   "pygments_lexer": "ipython3",
   "version": "3.12.0"
  }
 },
 "nbformat": 4,
 "nbformat_minor": 2
}
