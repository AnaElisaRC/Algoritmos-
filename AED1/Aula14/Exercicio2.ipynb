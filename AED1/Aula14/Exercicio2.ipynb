{
 "cells": [
  {
   "cell_type": "code",
   "execution_count": 1,
   "metadata": {},
   "outputs": [
    {
     "name": "stdout",
     "output_type": "stream",
     "text": [
      "O número 60 é primo? F\n"
     ]
    }
   ],
   "source": [
    "def verificar_primo(numero):\n",
    "    if numero <= 1:\n",
    "        return 'F'  # Números menores ou iguais a 1 não são primos\n",
    "    for i in range(2, int(numero**0.5) + 1):\n",
    "        if numero % i == 0:\n",
    "            return 'F'  # Se o número for divisível por algum número entre 2 e sua raiz quadrada, não é primo\n",
    "    return 'V'  # Se o número não for divisível por nenhum número entre 2 e sua raiz quadrada, é primo\n",
    "\n",
    "# Solicita o usuário a inserir um número inteiro\n",
    "num = int(input(\"Digite um número inteiro: \"))\n",
    "\n",
    "# Chama a função para verificar se o número é primo e imprime o resultado\n",
    "resultado = verificar_primo(num)\n",
    "print(f'O número {num} é primo? {resultado}')\n"
   ]
  }
 ],
 "metadata": {
  "kernelspec": {
   "display_name": "Python 3",
   "language": "python",
   "name": "python3"
  },
  "language_info": {
   "codemirror_mode": {
    "name": "ipython",
    "version": 3
   },
   "file_extension": ".py",
   "mimetype": "text/x-python",
   "name": "python",
   "nbconvert_exporter": "python",
   "pygments_lexer": "ipython3",
   "version": "3.12.0"
  }
 },
 "nbformat": 4,
 "nbformat_minor": 2
}
