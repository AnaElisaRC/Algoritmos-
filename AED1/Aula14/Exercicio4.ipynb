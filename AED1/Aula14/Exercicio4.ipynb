{
 "cells": [
  {
   "cell_type": "code",
   "execution_count": 2,
   "metadata": {},
   "outputs": [
    {
     "name": "stdout",
     "output_type": "stream",
     "text": [
      "O MDC de 20 e 50 é 10.\n"
     ]
    }
   ],
   "source": [
    "def calcular_mdc(num1, num2):\n",
    "    # Função para calcular o MDC usando o algoritmo de Euclides\n",
    "    while num2 != 0:\n",
    "        num1, num2 = num2, num1 % num2\n",
    "    return num1\n",
    "\n",
    "# Solicita o usuário a inserir dois números inteiros\n",
    "numero1 = int(input(\"Digite o primeiro número inteiro: \"))\n",
    "numero2 = int(input(\"Digite o segundo número inteiro: \"))\n",
    "\n",
    "# Chama a função para calcular o MDC e imprime o resultado\n",
    "mdc = calcular_mdc(numero1, numero2)\n",
    "print(f'O MDC de {numero1} e {numero2} é {mdc}.')\n"
   ]
  }
 ],
 "metadata": {
  "kernelspec": {
   "display_name": "Python 3",
   "language": "python",
   "name": "python3"
  },
  "language_info": {
   "codemirror_mode": {
    "name": "ipython",
    "version": 3
   },
   "file_extension": ".py",
   "mimetype": "text/x-python",
   "name": "python",
   "nbconvert_exporter": "python",
   "pygments_lexer": "ipython3",
   "version": "3.12.0"
  }
 },
 "nbformat": 4,
 "nbformat_minor": 2
}
