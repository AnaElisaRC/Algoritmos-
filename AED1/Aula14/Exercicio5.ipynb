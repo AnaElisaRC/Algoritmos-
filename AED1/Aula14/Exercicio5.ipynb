{
 "cells": [
  {
   "cell_type": "code",
   "execution_count": 1,
   "metadata": {},
   "outputs": [
    {
     "name": "stdout",
     "output_type": "stream",
     "text": [
      "O volume da esfera com raio 5.41 é 663.25.\n"
     ]
    }
   ],
   "source": [
    "import math\n",
    "\n",
    "def calcular_volume_esfera(raio):\n",
    "    volume = (4/3) * math.pi * (raio**3)\n",
    "    return volume\n",
    "\n",
    "# Solicita o usuário a inserir o raio da esfera\n",
    "raio_esfera = float(input(\"Digite o raio da esfera: \"))\n",
    "\n",
    "# Chama a função para calcular o volume e imprime o resultado\n",
    "volume = calcular_volume_esfera(raio_esfera)\n",
    "print(f'O volume da esfera com raio {raio_esfera} é {volume:.2f}.')\n"
   ]
  }
 ],
 "metadata": {
  "kernelspec": {
   "display_name": "Python 3",
   "language": "python",
   "name": "python3"
  },
  "language_info": {
   "codemirror_mode": {
    "name": "ipython",
    "version": 3
   },
   "file_extension": ".py",
   "mimetype": "text/x-python",
   "name": "python",
   "nbconvert_exporter": "python",
   "pygments_lexer": "ipython3",
   "version": "3.12.0"
  }
 },
 "nbformat": 4,
 "nbformat_minor": 2
}
