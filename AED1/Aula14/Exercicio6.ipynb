{
 "cells": [
  {
   "cell_type": "code",
   "execution_count": 1,
   "metadata": {},
   "outputs": [
    {
     "name": "stdout",
     "output_type": "stream",
     "text": [
      "O total de segundos é: 45192 segundos.\n"
     ]
    }
   ],
   "source": [
    "def converter_para_segundos(horas, minutos, segundos):\n",
    "    total_segundos = (horas * 3600) + (minutos * 60) + segundos\n",
    "    return total_segundos\n",
    "\n",
    "# Solicita o usuário a inserir horas, minutos e segundos\n",
    "horas = int(input(\"Digite o número de horas: \"))\n",
    "minutos = int(input(\"Digite o número de minutos: \"))\n",
    "segundos = int(input(\"Digite o número de segundos: \"))\n",
    "\n",
    "# Chama a função para converter para segundos e imprime o resultado\n",
    "segundos_total = converter_para_segundos(horas, minutos, segundos)\n",
    "print(f'O total de segundos é: {segundos_total} segundos.')\n"
   ]
  }
 ],
 "metadata": {
  "kernelspec": {
   "display_name": "Python 3",
   "language": "python",
   "name": "python3"
  },
  "language_info": {
   "codemirror_mode": {
    "name": "ipython",
    "version": 3
   },
   "file_extension": ".py",
   "mimetype": "text/x-python",
   "name": "python",
   "nbconvert_exporter": "python",
   "pygments_lexer": "ipython3",
   "version": "3.12.0"
  }
 },
 "nbformat": 4,
 "nbformat_minor": 2
}
