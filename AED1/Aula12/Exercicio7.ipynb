{
 "cells": [
  {
   "cell_type": "code",
   "execution_count": 1,
   "metadata": {},
   "outputs": [
    {
     "name": "stdout",
     "output_type": "stream",
     "text": [
      "Os 10 primeiros números primos acima de 100 são:\n",
      "[101, 103, 107, 109, 113, 127, 131, 137, 139, 149]\n"
     ]
    }
   ],
   "source": [
    "# Inicializa a lista para armazenar os números primos\n",
    "primos_acima_de_100 = []\n",
    "\n",
    "# Começa a verificar a partir de 101\n",
    "atual = 101\n",
    "\n",
    "# Enquanto não encontrarmos 10 números primos\n",
    "while len(primos_acima_de_100) < 10:\n",
    "    eh_primo = True\n",
    "    if atual > 1:\n",
    "        for i in range(2, int(atual ** 0.5) + 1):\n",
    "            if atual % i == 0:\n",
    "                eh_primo = False\n",
    "                break\n",
    "        if eh_primo:\n",
    "            primos_acima_de_100.append(atual)\n",
    "    atual += 1\n",
    "\n",
    "# Exibe os valores dos números primos armazenados\n",
    "print(\"Os 10 primeiros números primos acima de 100 são:\")\n",
    "print(primos_acima_de_100)\n"
   ]
  }
 ],
 "metadata": {
  "kernelspec": {
   "display_name": "Python 3",
   "language": "python",
   "name": "python3"
  },
  "language_info": {
   "codemirror_mode": {
    "name": "ipython",
    "version": 3
   },
   "file_extension": ".py",
   "mimetype": "text/x-python",
   "name": "python",
   "nbconvert_exporter": "python",
   "pygments_lexer": "ipython3",
   "version": "3.12.0"
  }
 },
 "nbformat": 4,
 "nbformat_minor": 2
}
