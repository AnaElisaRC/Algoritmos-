{
 "cells": [
  {
   "cell_type": "code",
   "execution_count": 1,
   "metadata": {},
   "outputs": [
    {
     "name": "stdout",
     "output_type": "stream",
     "text": [
      "Matriz original:\n",
      "[2.0, 1.0, 3.0]\n",
      "[2.0, 3.0, 1.0]\n",
      "[4.0, 5.0, 1.0]\n",
      "\n",
      "Matriz transposta:\n",
      "[2.0, 2.0, 4.0]\n",
      "[1.0, 3.0, 5.0]\n",
      "[3.0, 1.0, 1.0]\n"
     ]
    }
   ],
   "source": [
    "# Inicializar a matriz 3x3\n",
    "matriz = [[0.0 for _ in range(3)] for _ in range(3)]\n",
    "\n",
    "# Ler os elementos da matriz\n",
    "for i in range(3):\n",
    "    for j in range(3):\n",
    "        matriz[i][j] = float(input(f\"Digite o elemento da posição ({i+1},{j+1}): \"))\n",
    "\n",
    "# Criar a matriz transposta\n",
    "transposta = [[0.0 for _ in range(3)] for _ in range(3)]\n",
    "for i in range(3):\n",
    "    for j in range(3):\n",
    "        transposta[i][j] = matriz[j][i]\n",
    "\n",
    "# Exibir a matriz original e a matriz transposta\n",
    "print(\"Matriz original:\")\n",
    "for linha in matriz:\n",
    "    print(linha)\n",
    "\n",
    "print(\"\\nMatriz transposta:\")\n",
    "for linha in transposta:\n",
    "    print(linha)\n"
   ]
  }
 ],
 "metadata": {
  "kernelspec": {
   "display_name": "Python 3",
   "language": "python",
   "name": "python3"
  },
  "language_info": {
   "codemirror_mode": {
    "name": "ipython",
    "version": 3
   },
   "file_extension": ".py",
   "mimetype": "text/x-python",
   "name": "python",
   "nbconvert_exporter": "python",
   "pygments_lexer": "ipython3",
   "version": "3.12.0"
  }
 },
 "nbformat": 4,
 "nbformat_minor": 2
}
