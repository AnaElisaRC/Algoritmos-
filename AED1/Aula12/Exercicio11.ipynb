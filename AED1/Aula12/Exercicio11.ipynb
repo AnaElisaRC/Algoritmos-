{
 "cells": [
  {
   "cell_type": "code",
   "execution_count": 1,
   "metadata": {},
   "outputs": [
    {
     "name": "stdout",
     "output_type": "stream",
     "text": [
      "Matriz:\n",
      "[2.0, 3.0, 4.0, 1.0]\n",
      "[5.0, 1.0, 2.0, 3.0]\n",
      "[6.0, 4.0, 1.0, 2.0]\n",
      "[3.0, 6.0, 5.0, 41.0]\n",
      "Soma dos elementos da diagonal principal: 45.0\n"
     ]
    }
   ],
   "source": [
    "# Inicializar a matriz 4x4\n",
    "matriz = [[0.0 for _ in range(4)] for _ in range(4)]\n",
    "\n",
    "# Ler os elementos da matriz\n",
    "for i in range(4):\n",
    "    for j in range(4):\n",
    "        matriz[i][j] = float(input(f\"Digite o elemento da posição ({i+1},{j+1}): \"))\n",
    "\n",
    "# Calcular a soma dos elementos da diagonal principal\n",
    "soma_diagonal = 0.0\n",
    "for i in range(4):\n",
    "    soma_diagonal += matriz[i][i]\n",
    "\n",
    "# Exibir a matriz e a soma dos elementos da diagonal principal\n",
    "print(\"Matriz:\")\n",
    "for linha in matriz:\n",
    "    print(linha)\n",
    "\n",
    "print(f\"Soma dos elementos da diagonal principal: {soma_diagonal}\")\n"
   ]
  }
 ],
 "metadata": {
  "kernelspec": {
   "display_name": "Python 3",
   "language": "python",
   "name": "python3"
  },
  "language_info": {
   "codemirror_mode": {
    "name": "ipython",
    "version": 3
   },
   "file_extension": ".py",
   "mimetype": "text/x-python",
   "name": "python",
   "nbconvert_exporter": "python",
   "pygments_lexer": "ipython3",
   "version": "3.12.0"
  }
 },
 "nbformat": 4,
 "nbformat_minor": 2
}
