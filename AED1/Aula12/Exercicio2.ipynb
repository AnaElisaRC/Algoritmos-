{
 "cells": [
  {
   "cell_type": "code",
   "execution_count": 13,
   "metadata": {},
   "outputs": [
    {
     "name": "stdout",
     "output_type": "stream",
     "text": [
      "Numero maximo é 22 Localização 9\n"
     ]
    }
   ],
   "source": [
    "vetor= [2,4,6,8,10,12,14,18,20,22]\n",
    "\n",
    "nmax=max(vetor)\n",
    "nindex=vetor.index(nmax)\n",
    "\n",
    "print(f\"Numero maximo é {nmax} Localização {nindex}\")\n"
   ]
  }
 ],
 "metadata": {
  "kernelspec": {
   "display_name": "Python 3",
   "language": "python",
   "name": "python3"
  },
  "language_info": {
   "codemirror_mode": {
    "name": "ipython",
    "version": 3
   },
   "file_extension": ".py",
   "mimetype": "text/x-python",
   "name": "python",
   "nbconvert_exporter": "python",
   "pygments_lexer": "ipython3",
   "version": "3.12.0"
  }
 },
 "nbformat": 4,
 "nbformat_minor": 2
}
