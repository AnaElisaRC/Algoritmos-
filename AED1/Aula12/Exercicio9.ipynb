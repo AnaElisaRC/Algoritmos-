{
 "cells": [
  {
   "cell_type": "code",
   "execution_count": 1,
   "metadata": {},
   "outputs": [
    {
     "name": "stdout",
     "output_type": "stream",
     "text": [
      "1,1 = 1\n",
      "1,2 = 2\n",
      "2,1 = 2\n",
      "2,2 = 1\n"
     ]
    }
   ],
   "source": [
    "# Inicializar a matriz 2x2\n",
    "matriz = [[0, 0], [0, 0]]\n",
    "\n",
    "# Ler os elementos da matriz\n",
    "for i in range(2):\n",
    "    for j in range(2):\n",
    "        matriz[i][j] = int(input(f\"Digite o elemento ({i+1},{j+1}): \"))\n",
    "\n",
    "# Imprimir os elementos na ordem especificada\n",
    "print(f\"1,1 = {matriz[0][0]}\")\n",
    "print(f\"1,2 = {matriz[0][1]}\")\n",
    "print(f\"2,1 = {matriz[1][0]}\")\n",
    "print(f\"2,2 = {matriz[1][1]}\")\n"
   ]
  }
 ],
 "metadata": {
  "kernelspec": {
   "display_name": "Python 3",
   "language": "python",
   "name": "python3"
  },
  "language_info": {
   "codemirror_mode": {
    "name": "ipython",
    "version": 3
   },
   "file_extension": ".py",
   "mimetype": "text/x-python",
   "name": "python",
   "nbconvert_exporter": "python",
   "pygments_lexer": "ipython3",
   "version": "3.12.0"
  }
 },
 "nbformat": 4,
 "nbformat_minor": 2
}
