{
 "cells": [
  {
   "cell_type": "code",
   "execution_count": 2,
   "metadata": {},
   "outputs": [
    {
     "name": "stdout",
     "output_type": "stream",
     "text": [
      "Vetor A: [1, 3, 5, 6, 8, 10, 11, 15, 22, 50]\n",
      "Vetor B (ordenado): [1, 3, 5, 6, 8, 10, 11, 15, 22, 50]\n"
     ]
    }
   ],
   "source": [
    "# Inicializar os vetores A e B\n",
    "A = []\n",
    "B = []\n",
    "\n",
    "# Ler 10 números inteiros e armazenar no vetor A\n",
    "for i in range(10):\n",
    "    numero = int(input(f\"Digite o {i+1}º número inteiro: \"))\n",
    "    A.append(numero)\n",
    "\n",
    "# Copiar o vetor A para o vetor B\n",
    "B = A.copy()\n",
    "\n",
    "# Ordenar o vetor B\n",
    "B.sort()\n",
    "\n",
    "# Exibir os vetores A e B\n",
    "print(\"Vetor A:\", A)\n",
    "print(\"Vetor B (ordenado):\", B)\n"
   ]
  }
 ],
 "metadata": {
  "kernelspec": {
   "display_name": "Python 3",
   "language": "python",
   "name": "python3"
  },
  "language_info": {
   "codemirror_mode": {
    "name": "ipython",
    "version": 3
   },
   "file_extension": ".py",
   "mimetype": "text/x-python",
   "name": "python",
   "nbconvert_exporter": "python",
   "pygments_lexer": "ipython3",
   "version": "3.12.0"
  }
 },
 "nbformat": 4,
 "nbformat_minor": 2
}
