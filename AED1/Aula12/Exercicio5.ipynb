{
 "cells": [
  {
   "cell_type": "code",
   "execution_count": 2,
   "metadata": {},
   "outputs": [
    {
     "name": "stdout",
     "output_type": "stream",
     "text": [
      "Lado1 856 Lado2 826 Lado3 846 Lado4 846 Lado5 897 Lado6 1735\n"
     ]
    }
   ],
   "source": [
    "from random import randint\n",
    "soma1=0\n",
    "soma2=0\n",
    "soma3=0\n",
    "soma4=0\n",
    "soma5=0\n",
    "soma6=6\n",
    "\n",
    "\n",
    "for i in range (1,6001):\n",
    "    dado=randint (1,7)\n",
    "    if dado == 1:\n",
    "        soma1+=1\n",
    "    elif dado == 2:\n",
    "        soma2+=1\n",
    "    elif dado == 3:\n",
    "        soma3+=1\n",
    "    elif dado == 4:\n",
    "        soma4+=1\n",
    "    elif dado == 5:\n",
    "        soma5+=1\n",
    "    else:\n",
    "        soma6+=1\n",
    "\n",
    "print(f\"Lado1 {soma1} Lado2 {soma2} Lado3 {soma3} Lado4 {soma4} Lado5 {soma5} Lado6 {soma6}\")\n",
    "    \n",
    "    "
   ]
  }
 ],
 "metadata": {
  "kernelspec": {
   "display_name": "Python 3",
   "language": "python",
   "name": "python3"
  },
  "language_info": {
   "codemirror_mode": {
    "name": "ipython",
    "version": 3
   },
   "file_extension": ".py",
   "mimetype": "text/x-python",
   "name": "python",
   "nbconvert_exporter": "python",
   "pygments_lexer": "ipython3",
   "version": "3.12.0"
  }
 },
 "nbformat": 4,
 "nbformat_minor": 2
}
