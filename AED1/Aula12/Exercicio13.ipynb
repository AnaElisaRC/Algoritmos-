{
 "cells": [
  {
   "cell_type": "code",
   "execution_count": 2,
   "metadata": {},
   "outputs": [
    {
     "name": "stdout",
     "output_type": "stream",
     "text": [
      "Matriz:\n",
      "[2, 3, 6, 5, 4, 5, 6, 7, 8, 9]\n",
      "[12, 13, 14, 15, 16, 13, 12, 15, 19, 17]\n",
      "[16, 16, 12, 15, 16, 16, 14, 12, 11, 10]\n",
      "[13, 15, 14, 15, 16, 18, 11, 19, 18, 15]\n",
      "[14, 16, 1, 13, 12, 12, 11, 12, 12, 12]\n",
      "[12, 12, 12, 12, 13, 12, 12, 12, 12, 12]\n",
      "[12, 15, 15, 15, 15, 15, 15, 15, 1, 1]\n",
      "[1, 1, 1, 1, 1, 1, 1, 1, 1, 1]\n",
      "[1, 1, 1, 1, 1, 1, 1, 1, 1, 1]\n",
      "[1, 1, 1, 1, 1, 1, 1, 1, 1, 1]\n",
      "\n",
      "O maior elemento da matriz está na posição (2, 9) e seu valor é 19.\n"
     ]
    }
   ],
   "source": [
    "# Inicializar a matriz 10x10\n",
    "matriz = [[0 for _ in range(10)] for _ in range(10)]\n",
    "\n",
    "# Ler os elementos da matriz\n",
    "for i in range(10):\n",
    "    for j in range(10):\n",
    "        matriz[i][j] = int(input(f\"Digite o elemento da posição ({i+1},{j+1}): \"))\n",
    "\n",
    "# Encontrar o maior elemento da matriz e sua posição\n",
    "maior_elemento = matriz[0][0]\n",
    "posicao_maior = (0, 0)\n",
    "for i in range(10):\n",
    "    for j in range(10):\n",
    "        if matriz[i][j] > maior_elemento:\n",
    "            maior_elemento = matriz[i][j]\n",
    "            posicao_maior = (i+1, j+1)\n",
    "\n",
    "# Exibir a matriz e a posição do maior elemento\n",
    "print(\"Matriz:\")\n",
    "for linha in matriz:\n",
    "    print(linha)\n",
    "\n",
    "print(f\"\\nO maior elemento da matriz está na posição {posicao_maior} e seu valor é {maior_elemento}.\")\n"
   ]
  }
 ],
 "metadata": {
  "kernelspec": {
   "display_name": "Python 3",
   "language": "python",
   "name": "python3"
  },
  "language_info": {
   "codemirror_mode": {
    "name": "ipython",
    "version": 3
   },
   "file_extension": ".py",
   "mimetype": "text/x-python",
   "name": "python",
   "nbconvert_exporter": "python",
   "pygments_lexer": "ipython3",
   "version": "3.12.0"
  }
 },
 "nbformat": 4,
 "nbformat_minor": 2
}
