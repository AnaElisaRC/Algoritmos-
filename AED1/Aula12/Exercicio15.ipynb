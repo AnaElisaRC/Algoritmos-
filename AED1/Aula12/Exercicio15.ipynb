{
 "cells": [
  {
   "cell_type": "code",
   "execution_count": 1,
   "metadata": {},
   "outputs": [],
   "source": [
    "# Inicializar a matriz 8x8\n",
    "matriz = [[0 for _ in range(8)] for _ in range(8)]\n",
    "\n",
    "# Ler os elementos da matriz\n",
    "for i in range(8):\n",
    "    for j in range(8):\n",
    "        matriz[i][j] = int(input(f\"Digite o elemento da posição ({i+1},{j+1}): \"))\n",
    "\n",
    "# Verificar se a matriz é simétrica\n",
    "simetrica = True\n",
    "for i in range(8):\n",
    "    for j in range(8):\n",
    "        if matriz[i][j] != matriz[j][i]:\n",
    "            simetrica = False\n",
    "            break\n",
    "\n",
    "# Exibir mensagem sobre a simetria da matriz\n",
    "if simetrica:\n",
    "    print(\"A matriz é simétrica.\")\n",
    "else:\n",
    "    print(\"A matriz não é simétrica.\")\n"
   ]
  }
 ],
 "metadata": {
  "kernelspec": {
   "display_name": "Python 3",
   "language": "python",
   "name": "python3"
  },
  "language_info": {
   "codemirror_mode": {
    "name": "ipython",
    "version": 3
   },
   "file_extension": ".py",
   "mimetype": "text/x-python",
   "name": "python",
   "nbconvert_exporter": "python",
   "pygments_lexer": "ipython3",
   "version": "3.12.0"
  }
 },
 "nbformat": 4,
 "nbformat_minor": 2
}
