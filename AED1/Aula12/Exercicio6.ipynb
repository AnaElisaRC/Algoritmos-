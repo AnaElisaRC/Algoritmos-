{
 "cells": [
  {
   "cell_type": "code",
   "execution_count": 10,
   "metadata": {},
   "outputs": [
    {
     "name": "stdout",
     "output_type": "stream",
     "text": [
      "Frequência das somas (2 a 12):\n",
      "Soma 2: 810 vezes\n",
      "Soma 3: 1603 vezes\n",
      "Soma 4: 2519 vezes\n",
      "Soma 5: 3356 vezes\n",
      "Soma 6: 4280 vezes\n",
      "Soma 7: 5002 vezes\n",
      "Soma 8: 4150 vezes\n",
      "Soma 9: 3318 vezes\n",
      "Soma 10: 2545 vezes\n",
      "Soma 11: 1589 vezes\n",
      "Soma 12: 828 vezes\n",
      "\n",
      "Frequência esperada para a soma 7 (1/6 de 30000): 5000.0\n",
      "Frequência real da soma 7: 5002\n",
      "Desvio percentual: 0.04%\n"
     ]
    }
   ],
   "source": [
    "import random\n",
    "\n",
    "# Inicializa o contador de frequências para cada possível soma (2 a 12)\n",
    "frequencies = {i: 0 for i in range(2, 13)}\n",
    "\n",
    "# Número de jogadas\n",
    "num_rolls = 30000\n",
    "\n",
    "# Rolar os dados 30.000 vezes\n",
    "for _ in range(num_rolls):\n",
    "    die1 = random.randint(1, 6)\n",
    "    die2 = random.randint(1, 6)\n",
    "    roll_sum = die1 + die2\n",
    "    frequencies[roll_sum] += 1\n",
    "\n",
    "# Exibir as frequências de cada soma\n",
    "print(\"Frequência das somas (2 a 12):\")\n",
    "for sum_, freq in frequencies.items():\n",
    "    print(f\"Soma {sum_}: {freq} vezes\")\n",
    "\n",
    "# Verificar se a soma 7 corresponde a aproximadamente 1/6 das jogadas\n",
    "expected_frequency = num_rolls / 6\n",
    "actual_frequency = frequencies[7]\n",
    "\n",
    "print(f\"\\nFrequência esperada para a soma 7 (1/6 de {num_rolls}): {expected_frequency}\")\n",
    "print(f\"Frequência real da soma 7: {actual_frequency}\")\n",
    "\n",
    "# Calcular a diferença percentual\n",
    "difference = abs(expected_frequency - actual_frequency) / expected_frequency * 100\n",
    "print(f\"Desvio percentual: {difference:.2f}%\")\n"
   ]
  }
 ],
 "metadata": {
  "kernelspec": {
   "display_name": "Python 3",
   "language": "python",
   "name": "python3"
  },
  "language_info": {
   "codemirror_mode": {
    "name": "ipython",
    "version": 3
   },
   "file_extension": ".py",
   "mimetype": "text/x-python",
   "name": "python",
   "nbconvert_exporter": "python",
   "pygments_lexer": "ipython3",
   "version": "3.12.0"
  }
 },
 "nbformat": 4,
 "nbformat_minor": 2
}
