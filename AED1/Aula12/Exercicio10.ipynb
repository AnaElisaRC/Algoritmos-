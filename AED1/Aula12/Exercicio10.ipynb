{
 "cells": [
  {
   "cell_type": "code",
   "execution_count": 1,
   "metadata": {},
   "outputs": [
    {
     "name": "stdout",
     "output_type": "stream",
     "text": [
      "Matriz original:\n",
      "2 2 \n",
      "3 3 \n",
      "Matriz resultante:\n",
      "6 6 \n",
      "9 9 \n"
     ]
    }
   ],
   "source": [
    "# Inicializar a matriz 2x2\n",
    "matriz = [[0, 0], [0, 0]]\n",
    "\n",
    "# Ler os elementos da matriz\n",
    "for i in range(2):\n",
    "    for j in range(2):\n",
    "        matriz[i][j] = int(input(f\"Digite o elemento ({i+1},{j+1}): \"))\n",
    "\n",
    "# Encontrar o maior elemento da matriz\n",
    "maior_elemento = matriz[0][0]\n",
    "for i in range(2):\n",
    "    for j in range(2):\n",
    "        if matriz[i][j] > maior_elemento:\n",
    "            maior_elemento = matriz[i][j]\n",
    "\n",
    "# Calcular a matriz resultante multiplicada pelo maior elemento\n",
    "matriz_resultante = [[0, 0], [0, 0]]\n",
    "for i in range(2):\n",
    "    for j in range(2):\n",
    "        matriz_resultante[i][j] = matriz[i][j] * maior_elemento\n",
    "\n",
    "# Mostrar a matriz original e a matriz resultante\n",
    "print(\"Matriz original:\")\n",
    "for i in range(2):\n",
    "    for j in range(2):\n",
    "        print(f\"{matriz[i][j]} \", end=\"\")\n",
    "    print()\n",
    "\n",
    "print(\"Matriz resultante:\")\n",
    "for i in range(2):\n",
    "    for j in range(2):\n",
    "        print(f\"{matriz_resultante[i][j]} \", end=\"\")\n",
    "    print()\n"
   ]
  }
 ],
 "metadata": {
  "kernelspec": {
   "display_name": "Python 3",
   "language": "python",
   "name": "python3"
  },
  "language_info": {
   "codemirror_mode": {
    "name": "ipython",
    "version": 3
   },
   "file_extension": ".py",
   "mimetype": "text/x-python",
   "name": "python",
   "nbconvert_exporter": "python",
   "pygments_lexer": "ipython3",
   "version": "3.12.0"
  }
 },
 "nbformat": 4,
 "nbformat_minor": 2
}
