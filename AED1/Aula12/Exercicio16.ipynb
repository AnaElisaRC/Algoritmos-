{
 "cells": [
  {
   "cell_type": "code",
   "execution_count": null,
   "metadata": {},
   "outputs": [],
   "source": [
    "# Inicializar a matriz 5x5\n",
    "matriz = [[0.0 for _ in range(5)] for _ in range(5)]\n",
    "\n",
    "# Ler os elementos da matriz\n",
    "for i in range(5):\n",
    "    for j in range(5):\n",
    "        matriz[i][j] = float(input(f\"Digite o elemento da posição ({i+1},{j+1}): \"))\n",
    "\n",
    "# Calcular a média dos elementos nas linhas pares da matriz\n",
    "soma_linhas_pares = 0.0\n",
    "qtd_linhas_pares = 0\n",
    "for i in range(0, 5, 2):  # Percorre as linhas pares (0, 2, 4)\n",
    "    for j in range(5):\n",
    "        soma_linhas_pares += matriz[i][j]\n",
    "    qtd_linhas_pares += 1\n",
    "\n",
    "if qtd_linhas_pares > 0:\n",
    "    media_linhas_pares = soma_linhas_pares / qtd_linhas_pares\n",
    "    print(f\"A média dos elementos nas linhas pares é: {media_linhas_pares}\")\n",
    "else:\n",
    "    print(\"Não há linhas pares na matriz para calcular a média.\")\n"
   ]
  }
 ],
 "metadata": {
  "language_info": {
   "name": "python"
  }
 },
 "nbformat": 4,
 "nbformat_minor": 2
}
