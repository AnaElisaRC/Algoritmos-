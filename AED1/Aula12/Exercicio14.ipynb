{
 "cells": [
  {
   "cell_type": "code",
   "execution_count": 4,
   "metadata": {},
   "outputs": [],
   "source": [
    "# Inicializar a matriz 10x20 e o vetor para armazenar as somas das linhas\n",
    "matriz = [[0 for _ in range(20)] for _ in range(10)]\n",
    "somas_linhas = [0 for _ in range(10)]\n",
    "\n",
    "# Ler os elementos da matriz\n",
    "for i in range(10):\n",
    "    for j in range(20):\n",
    "        matriz[i][j] = int(input(f\"Digite o elemento da posição ({i+1},{j+1}): \"))\n",
    "        # Somar os elementos de cada linha\n",
    "        somas_linhas[i] += matriz[i][j]\n",
    "\n",
    "# Criar a matriz resultante multiplicando cada elemento pela soma da linha\n",
    "matriz_resultante = [[matriz[i][j] * somas_linhas[i] for j in range(20)] for i in range(10)]\n",
    "\n",
    "# Exibir a matriz resultante\n",
    "print(\"Matriz Resultante:\")\n",
    "for linha in matriz_resultante:\n",
    "    print(linha)\n"
   ]
  }
 ],
 "metadata": {
  "kernelspec": {
   "display_name": "Python 3",
   "language": "python",
   "name": "python3"
  },
  "language_info": {
   "codemirror_mode": {
    "name": "ipython",
    "version": 3
   },
   "file_extension": ".py",
   "mimetype": "text/x-python",
   "name": "python",
   "nbconvert_exporter": "python",
   "pygments_lexer": "ipython3",
   "version": "3.12.0"
  }
 },
 "nbformat": 4,
 "nbformat_minor": 2
}
