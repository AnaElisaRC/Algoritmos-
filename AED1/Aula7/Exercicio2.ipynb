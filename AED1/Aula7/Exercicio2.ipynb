{
 "cells": [
  {
   "cell_type": "code",
   "execution_count": 15,
   "metadata": {},
   "outputs": [
    {
     "name": "stdout",
     "output_type": "stream",
     "text": [
      "Resultado de anos 30\n",
      "Resultado de meses 355\n",
      "Resultado de dias 10792\n",
      "Resultado de semanas 1541\n"
     ]
    }
   ],
   "source": [
    "from datetime import datetime\n",
    "\n",
    "\n",
    "diadeNascimento=int(input(\"digitar seu dia de nascimento\"))\n",
    "mesdeNascimento=int(input(\"digitar o mes de nascimento\"))\n",
    "anoDeNascimento=int(input(\"digitar seu ano de nascimento\"))\n",
    "\n",
    "dataNascimento=datetime(anoDeNascimento,mesdeNascimento, diadeNascimento)\n",
    "\n",
    "dataAtual=datetime.now()\n",
    "\n",
    "idadeDaPessoaemanos=dataAtual.year-anoDeNascimento\n",
    "idadeDaPessoaemMeses=(idadeDaPessoaemanos*12)+dataAtual.month-mesdeNascimento\n",
    "idadeDapessoaemdias=dataAtual-dataNascimento\n",
    "idadeDapessoaemsemanas=idadeDapessoaemdias.days//7\n",
    "\n",
    "print(\"Resultado de anos\", idadeDaPessoaemanos)\n",
    "print(\"Resultado de meses\",idadeDaPessoaemMeses)\n",
    "print(\"Resultado de dias\",idadeDapessoaemdias.days)\n",
    "print(\"Resultado de semanas\",idadeDapessoaemsemanas)\n"
   ]
  }
 ],
 "metadata": {
  "kernelspec": {
   "display_name": "base",
   "language": "python",
   "name": "python3"
  },
  "language_info": {
   "codemirror_mode": {
    "name": "ipython",
    "version": 3
   },
   "file_extension": ".py",
   "mimetype": "text/x-python",
   "name": "python",
   "nbconvert_exporter": "python",
   "pygments_lexer": "ipython3",
   "version": "3.11.7"
  }
 },
 "nbformat": 4,
 "nbformat_minor": 2
}
