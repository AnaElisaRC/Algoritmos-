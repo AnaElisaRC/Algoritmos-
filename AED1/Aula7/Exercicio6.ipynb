{
 "cells": [
  {
   "cell_type": "code",
   "execution_count": 2,
   "metadata": {},
   "outputs": [
    {
     "name": "stdout",
     "output_type": "stream",
     "text": [
      "Area 2.0\n"
     ]
    }
   ],
   "source": [
    "base=float(input(\"digite o valor da base do triângulo\"))\n",
    "altura=float(input(\"digite o valor da altura do triângulo\"))\n",
    "\n",
    "area=(base*altura/2)\n",
    "\n",
    "print(\"Area\",area)"
   ]
  }
 ],
 "metadata": {
  "kernelspec": {
   "display_name": "base",
   "language": "python",
   "name": "python3"
  },
  "language_info": {
   "codemirror_mode": {
    "name": "ipython",
    "version": 3
   },
   "file_extension": ".py",
   "mimetype": "text/x-python",
   "name": "python",
   "nbconvert_exporter": "python",
   "pygments_lexer": "ipython3",
   "version": "3.11.7"
  }
 },
 "nbformat": 4,
 "nbformat_minor": 2
}
