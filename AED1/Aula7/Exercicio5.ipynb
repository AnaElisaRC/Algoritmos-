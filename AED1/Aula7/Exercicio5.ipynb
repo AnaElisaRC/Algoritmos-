{
 "cells": [
  {
   "cell_type": "code",
   "execution_count": 1,
   "metadata": {},
   "outputs": [
    {
     "name": "stdout",
     "output_type": "stream",
     "text": [
      "valor do rendimento 20.0\n",
      "valor total  1020.0\n"
     ]
    }
   ],
   "source": [
    "deposito=float(input(\"Digite o valor do deposito\"))\n",
    "juros=float(input(\"Digite o valor da taxa de juros\"))\n",
    "\n",
    "rendimento= deposito*(juros/100)\n",
    "\n",
    "valorTotal=deposito+rendimento\n",
    "print(\"valor do rendimento\", rendimento)\n",
    "print(\"valor total \", valorTotal)"
   ]
  }
 ],
 "metadata": {
  "kernelspec": {
   "display_name": "base",
   "language": "python",
   "name": "python3"
  },
  "language_info": {
   "codemirror_mode": {
    "name": "ipython",
    "version": 3
   },
   "file_extension": ".py",
   "mimetype": "text/x-python",
   "name": "python",
   "nbconvert_exporter": "python",
   "pygments_lexer": "ipython3",
   "version": "3.11.7"
  }
 },
 "nbformat": 4,
 "nbformat_minor": 2
}
