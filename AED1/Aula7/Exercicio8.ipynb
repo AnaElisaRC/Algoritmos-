{
 "cells": [
  {
   "cell_type": "code",
   "execution_count": 1,
   "metadata": {},
   "outputs": [
    {
     "name": "stdout",
     "output_type": "stream",
     "text": [
      "Polegadas 1200.0\n",
      "Jardas 33.333333333333336\n",
      "milhas 0.01893939393939394\n"
     ]
    }
   ],
   "source": [
    "pes=float(input(\"Digite o valor da medida em pés\"))\n",
    "\n",
    "polegadas=pes*12\n",
    "jardas=pes/3\n",
    "milhas=jardas/1760\n",
    "\n",
    "print(\"Polegadas\", polegadas)\n",
    "print(\"Jardas\", jardas)\n",
    "print(\"milhas\", milhas)\n"
   ]
  }
 ],
 "metadata": {
  "kernelspec": {
   "display_name": "base",
   "language": "python",
   "name": "python3"
  },
  "language_info": {
   "codemirror_mode": {
    "name": "ipython",
    "version": 3
   },
   "file_extension": ".py",
   "mimetype": "text/x-python",
   "name": "python",
   "nbconvert_exporter": "python",
   "pygments_lexer": "ipython3",
   "version": "3.11.7"
  }
 },
 "nbformat": 4,
 "nbformat_minor": 2
}
