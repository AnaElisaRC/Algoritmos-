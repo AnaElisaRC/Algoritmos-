{
 "cells": [
  {
   "cell_type": "code",
   "execution_count": 22,
   "metadata": {},
   "outputs": [
    {
     "name": "stdout",
     "output_type": "stream",
     "text": [
      "650\n"
     ]
    }
   ],
   "source": [
    "soma = 0\n",
    "for numero in range(1,51):\n",
    "    resto = numero % 2\n",
    "\n",
    "    if resto == 0:\n",
    "        soma = numero + soma\n",
    "\n",
    "print(soma)\n",
    "        "
   ]
  },
  {
   "cell_type": "code",
   "execution_count": 21,
   "metadata": {},
   "outputs": [
    {
     "name": "stdout",
     "output_type": "stream",
     "text": [
      "675\n"
     ]
    }
   ],
   "source": [
    "soma = 0\n",
    "numero = 1\n",
    "\n",
    "while numero <= 50:\n",
    "    \n",
    "    resto = numero % 2\n",
    "\n",
    "    numero = numero + 1\n",
    "\n",
    "    if resto == 0:\n",
    "       soma = numero + soma\n",
    "\n",
    "print(soma)"
   ]
  }
 ],
 "metadata": {
  "kernelspec": {
   "display_name": "base",
   "language": "python",
   "name": "python3"
  },
  "language_info": {
   "codemirror_mode": {
    "name": "ipython",
    "version": 3
   },
   "file_extension": ".py",
   "mimetype": "text/x-python",
   "name": "python",
   "nbconvert_exporter": "python",
   "pygments_lexer": "ipython3",
   "version": "3.11.7"
  }
 },
 "nbformat": 4,
 "nbformat_minor": 2
}
