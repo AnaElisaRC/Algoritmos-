{
 "cells": [
  {
   "cell_type": "code",
   "execution_count": 2,
   "metadata": {},
   "outputs": [
    {
     "name": "stdout",
     "output_type": "stream",
     "text": [
      "Peso médio é  77.6\n",
      "Altura média é  1.764\n",
      "IMC menor 20.811654526534856 IMC maior  27.68166089965398\n"
     ]
    }
   ],
   "source": [
    "somaPeso = 0\n",
    "somaAltura = 0\n",
    "imcMenor = 99\n",
    "imcMaior = 0\n",
    "\n",
    "for i in range (1,6) :\n",
    "   peso = float(input(\"Digite seu peso: \"))\n",
    "   altura = float(input(\"Digite sua altura: \"))\n",
    "   somaPeso = peso + somaPeso\n",
    "   somaAltura = altura + somaAltura\n",
    "   imc = peso/(altura*altura)\n",
    "   \n",
    "   if imc > imcMaior:\n",
    "      imcMaior = imc\n",
    "   \n",
    "   if imc < imcMenor:\n",
    "      imcMenor = imc\n",
    "    \n",
    "    \n",
    "\n",
    "print(\"Peso médio é \", somaPeso / 5)\n",
    "print (\"Altura média é \", somaAltura / 5 )\n",
    "print (\"IMC menor\", imcMenor,\"IMC maior \" , imcMaior)"
   ]
  },
  {
   "cell_type": "code",
   "execution_count": 6,
   "metadata": {},
   "outputs": [
    {
     "name": "stdout",
     "output_type": "stream",
     "text": [
      "Peso médio é  23.2\n",
      "Altura média é  0.346\n",
      "IMC menor 38.75839486785392 IMC maior  38.75839486785392\n"
     ]
    }
   ],
   "source": [
    "somaPeso = 0\n",
    "somaAltura = 0\n",
    "imcMenor = 99\n",
    "imcMaior = 0\n",
    "quantidadePessoas = 1\n",
    "\n",
    "while quantidadePessoas <= 5:    \n",
    "   peso = float(input(\"Digite seu peso: \"))\n",
    "   altura = float(input(\"Digite sua altura: \"))\n",
    "   \n",
    "   somaPeso = peso + somaPeso\n",
    "   somaAltura = altura + somaAltura\n",
    "   imc = peso/(altura*altura)\n",
    "   \n",
    "   if imc > imcMaior:\n",
    "      imcMaior = imc\n",
    "   \n",
    "   if imc < imcMenor:\n",
    "      imcMenor = imc\n",
    "\n",
    "   quantidadePessoas += quantidadePessoas\n",
    "    \n",
    "    \n",
    "\n",
    "print(\"Peso médio é \", somaPeso / 5)\n",
    "print (\"Altura média é \", somaAltura / 5 )\n",
    "print (\"IMC menor\", imcMenor,\"IMC maior \" , imcMaior)"
   ]
  }
 ],
 "metadata": {
  "kernelspec": {
   "display_name": "base",
   "language": "python",
   "name": "python3"
  },
  "language_info": {
   "codemirror_mode": {
    "name": "ipython",
    "version": 3
   },
   "file_extension": ".py",
   "mimetype": "text/x-python",
   "name": "python",
   "nbconvert_exporter": "python",
   "pygments_lexer": "ipython3",
   "version": "3.11.7"
  }
 },
 "nbformat": 4,
 "nbformat_minor": 2
}
