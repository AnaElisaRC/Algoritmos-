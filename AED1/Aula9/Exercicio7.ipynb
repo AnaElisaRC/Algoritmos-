{
 "cells": [
  {
   "cell_type": "code",
   "execution_count": 7,
   "metadata": {},
   "outputs": [
    {
     "name": "stdout",
     "output_type": "stream",
     "text": [
      "É primo\n"
     ]
    }
   ],
   "source": [
    "numero = int(input(\" Digite um conjunto de numeros \"))\n",
    "\n",
    "primo = True\n",
    "\n",
    "if numero <1:\n",
    "    print(\" numero deve ser maior que 1\")\n",
    "else:\n",
    "    contador = 2\n",
    "    while contador < numero:\n",
    "        resto = numero % contador\n",
    "        if resto == 0:\n",
    "            primo = False\n",
    "            break\n",
    "        contador = contador + 1\n",
    "\n",
    "if primo == True:\n",
    "    print(\"É primo\")\n",
    "\n",
    "else:\n",
    "    print(\"Não é primo\")\n"
   ]
  },
  {
   "cell_type": "code",
   "execution_count": 8,
   "metadata": {},
   "outputs": [
    {
     "name": "stdout",
     "output_type": "stream",
     "text": [
      "É primo\n"
     ]
    }
   ],
   "source": [
    "numero = int(input(\" Digite um conjunto de numeros \"))\n",
    "\n",
    "primo = True\n",
    "\n",
    "if numero <1:\n",
    "    print(\" numero deve ser maior que 1\")\n",
    "else:\n",
    "    \n",
    "    for contador in range (2,numero):\n",
    "        resto = numero % contador\n",
    "        if resto == 0:\n",
    "            primo = False\n",
    "            break\n",
    "\n",
    "if primo == True:\n",
    "    print(\"É primo\")\n",
    "\n",
    "else:\n",
    "    print(\"Não é primo\")"
   ]
  }
 ],
 "metadata": {
  "kernelspec": {
   "display_name": "base",
   "language": "python",
   "name": "python3"
  },
  "language_info": {
   "codemirror_mode": {
    "name": "ipython",
    "version": 3
   },
   "file_extension": ".py",
   "mimetype": "text/x-python",
   "name": "python",
   "nbconvert_exporter": "python",
   "pygments_lexer": "ipython3",
   "version": "3.11.7"
  }
 },
 "nbformat": 4,
 "nbformat_minor": 2
}
