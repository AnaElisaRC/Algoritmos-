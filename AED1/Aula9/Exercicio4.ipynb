{
 "cells": [
  {
   "cell_type": "code",
   "execution_count": 3,
   "metadata": {},
   "outputs": [
    {
     "name": "stdout",
     "output_type": "stream",
     "text": [
      "4\n"
     ]
    }
   ],
   "source": [
    "somapares = 0\n",
    "while True:   \n",
    "    conjNumeros = int(input(\" Digite um conjunto de numeros \"))\n",
    "    resto = conjNumeros % 2\n",
    "\n",
    "    if conjNumeros == 0:\n",
    "        break\n",
    "\n",
    "    if resto == 0:\n",
    "       somapares= conjNumeros + somapares \n",
    "\n",
    "print(somapares)\n",
    "    \n",
    "    "
   ]
  },
  {
   "cell_type": "code",
   "execution_count": 8,
   "metadata": {},
   "outputs": [
    {
     "name": "stdout",
     "output_type": "stream",
     "text": [
      "0\n"
     ]
    }
   ],
   "source": [
    "somapares = 0\n",
    "\n",
    "for i in range(1, -1):\n",
    "  conjNumeros = int(input(\" Digite um conjunto de numeros \"))\n",
    "  \n",
    "  if i == 0:  # Para o loop quando i for 0\n",
    "    break\n",
    "  \n",
    "  resto == conjNumeros % 2\n",
    "  \n",
    "  if resto == 0:\n",
    "       somapares= conjNumeros + somapares \n",
    "\n",
    "print(somapares)\n",
    "    "
   ]
  }
 ],
 "metadata": {
  "kernelspec": {
   "display_name": "base",
   "language": "python",
   "name": "python3"
  },
  "language_info": {
   "codemirror_mode": {
    "name": "ipython",
    "version": 3
   },
   "file_extension": ".py",
   "mimetype": "text/x-python",
   "name": "python",
   "nbconvert_exporter": "python",
   "pygments_lexer": "ipython3",
   "version": "3.11.7"
  }
 },
 "nbformat": 4,
 "nbformat_minor": 2
}
