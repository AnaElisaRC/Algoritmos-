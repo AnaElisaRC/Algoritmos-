{
 "cells": [
  {
   "cell_type": "code",
   "execution_count": 3,
   "metadata": {},
   "outputs": [
    {
     "name": "stdout",
     "output_type": "stream",
     "text": [
      "Fatorial de x é: 6\n"
     ]
    }
   ],
   "source": [
    "x = int(input(\" Digite um conjunto de numeros \"))\n",
    "\n",
    "if x < 0:\n",
    "    print (\"Fatorial não é definido\")\n",
    "\n",
    "else:\n",
    "    fatorial = 1\n",
    "    for i in range ( 1, x+1):\n",
    "        fatorial = i * fatorial\n",
    "\n",
    "print (\"Fatorial de x é:\", fatorial)"
   ]
  },
  {
   "cell_type": "code",
   "execution_count": 5,
   "metadata": {},
   "outputs": [
    {
     "name": "stdout",
     "output_type": "stream",
     "text": [
      "Fatorial de x é: 6\n"
     ]
    }
   ],
   "source": [
    "x = int(input(\" Digite um conjunto de numeros \"))\n",
    "contador = 1\n",
    "if x < 0:\n",
    "    print (\"Fatorial não é definido\")\n",
    "\n",
    "else:\n",
    "    fatorial = 1\n",
    "    while contador <= x:\n",
    "        fatorial = contador * fatorial\n",
    "        contador = contador + 1\n",
    "\n",
    "print (\"Fatorial de x é:\", fatorial)"
   ]
  }
 ],
 "metadata": {
  "kernelspec": {
   "display_name": "base",
   "language": "python",
   "name": "python3"
  },
  "language_info": {
   "codemirror_mode": {
    "name": "ipython",
    "version": 3
   },
   "file_extension": ".py",
   "mimetype": "text/x-python",
   "name": "python",
   "nbconvert_exporter": "python",
   "pygments_lexer": "ipython3",
   "version": "3.11.7"
  }
 },
 "nbformat": 4,
 "nbformat_minor": 2
}
