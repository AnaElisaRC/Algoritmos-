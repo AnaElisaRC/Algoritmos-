{
 "cells": [
  {
   "cell_type": "code",
   "execution_count": 10,
   "metadata": {},
   "outputs": [
    {
     "name": "stdout",
     "output_type": "stream",
     "text": [
      "30\n"
     ]
    }
   ],
   "source": [
    "n = int(input(\"Digite um valor para n: \"))\n",
    "\n",
    "E = 0\n",
    "\n",
    "if n >= 0:\n",
    "    for numeroElevado in range(1,n+1):\n",
    "        E += 2**numeroElevado\n",
    "    \n",
    "    print(E)"
   ]
  },
  {
   "cell_type": "code",
   "execution_count": 22,
   "metadata": {},
   "outputs": [
    {
     "name": "stdout",
     "output_type": "stream",
     "text": [
      "30\n"
     ]
    }
   ],
   "source": [
    "n = int(input(\"Digite um valor para n: \"))\n",
    "\n",
    "E = 0\n",
    "\n",
    "if n >= 0:\n",
    "    \n",
    "    numeroElevado = 1\n",
    "\n",
    "    while numeroElevado <= n:\n",
    "        \n",
    "        E += 2**numeroElevado\n",
    "\n",
    "        numeroElevado = numeroElevado + 1\n",
    "    \n",
    "    print(E)\n",
    "  "
   ]
  }
 ],
 "metadata": {
  "kernelspec": {
   "display_name": "base",
   "language": "python",
   "name": "python3"
  },
  "language_info": {
   "codemirror_mode": {
    "name": "ipython",
    "version": 3
   },
   "file_extension": ".py",
   "mimetype": "text/x-python",
   "name": "python",
   "nbconvert_exporter": "python",
   "pygments_lexer": "ipython3",
   "version": "3.11.7"
  }
 },
 "nbformat": 4,
 "nbformat_minor": 2
}
