{
 "cells": [
  {
   "cell_type": "code",
   "execution_count": 1,
   "metadata": {},
   "outputs": [
    {
     "name": "stdout",
     "output_type": "stream",
     "text": [
      "Os 10 primeiros números da sequência de Fibonacci são: [0, 1, 1, 2, 3, 5, 8, 13, 21, 34]\n"
     ]
    }
   ],
   "source": [
    "\n",
    "numfibonacci = [0, 1]\n",
    "\n",
    "for i in range(2, 10):\n",
    "    proximovalor = numfibonacci[i-1] + numfibonacci[i-2]\n",
    "    numfibonacci.append(proximovalor)\n",
    "\n",
    "print(f\"Os 10 primeiros números da sequência de Fibonacci são: {numfibonacci}\")\n"
   ]
  },
  {
   "cell_type": "code",
   "execution_count": 5,
   "metadata": {},
   "outputs": [
    {
     "name": "stdout",
     "output_type": "stream",
     "text": [
      "Os 10 primeiros números da sequência de Fibonacci são: [0, 1, 1, 2, 3, 5, 8, 13, 21, 34]\n"
     ]
    }
   ],
   "source": [
    "numfibonacci = [0, 1]\n",
    "contador = 2\n",
    "while contador < 10: \n",
    "    proximovalor = numfibonacci[contador-1] + numfibonacci[contador-2]\n",
    "    numfibonacci.append(proximovalor)\n",
    "    contador = contador + 1\n",
    "\n",
    "print(f\"Os 10 primeiros números da sequência de Fibonacci são: {numfibonacci}\")"
   ]
  }
 ],
 "metadata": {
  "kernelspec": {
   "display_name": "base",
   "language": "python",
   "name": "python3"
  },
  "language_info": {
   "codemirror_mode": {
    "name": "ipython",
    "version": 3
   },
   "file_extension": ".py",
   "mimetype": "text/x-python",
   "name": "python",
   "nbconvert_exporter": "python",
   "pygments_lexer": "ipython3",
   "version": "3.11.7"
  }
 },
 "nbformat": 4,
 "nbformat_minor": 2
}
